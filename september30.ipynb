{
 "cells": [
  {
   "cell_type": "code",
   "execution_count": 1,
   "id": "5b57f80e",
   "metadata": {},
   "outputs": [],
   "source": [
    "!pip install -q alpaca-py python-dotenv pandas numpy matplotlib"
   ]
  },
  {
   "cell_type": "code",
   "execution_count": 2,
   "id": "8aadbbc4",
   "metadata": {},
   "outputs": [],
   "source": [
    "import os\n",
    "from dotenv import load_dotenv\n",
    "from alpaca.trading.client import TradingClient\n",
    "from alpaca.data.historical import StockHistoricalDataClient\n",
    "from alpaca.data.requests import StockBarsRequest\n",
    "from alpaca.data.timeframe import TimeFrame\n",
    "import pandas as pd\n",
    "import time\n",
    "import numpy as np"
   ]
  },
  {
   "cell_type": "code",
   "execution_count": 3,
   "id": "dc064dd0",
   "metadata": {},
   "outputs": [],
   "source": [
    "# Uncomment if on Google Colab\n",
    "# from google.colab import userdata\n",
    "# API_KEY = userdata.get('API_KEY')\n",
    "# SECRET_KEY = userdata.get('SECRET_KEY')\n",
    "\n",
    "# For local use\n",
    "load_dotenv()\n",
    "API_KEY = os.getenv('API_KEY')\n",
    "SECRET_KEY = os.getenv('SECRET_KEY')"
   ]
  },
  {
   "cell_type": "code",
   "execution_count": 4,
   "id": "f49037de",
   "metadata": {},
   "outputs": [
    {
     "name": "stdout",
     "output_type": "stream",
     "text": [
      "Connection successful. Account status: AccountStatus.ACTIVE\n"
     ]
    }
   ],
   "source": [
    "# Connect to Alpaca Trading API\n",
    "trading_client = TradingClient(API_KEY, SECRET_KEY, paper=True)\n",
    "account = trading_client.get_account()\n",
    "print(f\"Connection successful. Account status: {account.status}\")"
   ]
  },
  {
   "cell_type": "code",
   "execution_count": 5,
   "id": "65255657",
   "metadata": {},
   "outputs": [
    {
     "name": "stdout",
     "output_type": "stream",
     "text": [
      "Successfully fetched historical data for SPY:\n",
      "\n",
      "                                    open      high      low   close  \\\n",
      "symbol timestamp                                                      \n",
      "SPY    2025-09-23 04:00:00+00:00  666.72  667.3400  661.980  663.21   \n",
      "       2025-09-24 04:00:00+00:00  664.51  664.6100  659.670  661.10   \n",
      "       2025-09-25 04:00:00+00:00  657.94  659.4056  654.405  658.05   \n",
      "       2025-09-26 04:00:00+00:00  659.51  662.3700  657.880  661.82   \n",
      "       2025-09-29 04:00:00+00:00  664.36  665.2800  661.860  663.68   \n",
      "\n",
      "                                      volume  trade_count        vwap  \n",
      "symbol timestamp                                                       \n",
      "SPY    2025-09-23 04:00:00+00:00  81708872.0     896647.0  664.434604  \n",
      "       2025-09-24 04:00:00+00:00  68082229.0     807609.0  661.597947  \n",
      "       2025-09-25 04:00:00+00:00  89622067.0     935968.0  657.338549  \n",
      "       2025-09-26 04:00:00+00:00  69179209.0     769909.0  660.616791  \n",
      "       2025-09-29 04:00:00+00:00  72879553.0     759596.0  663.523234  \n"
     ]
    }
   ],
   "source": [
    "# Connect to Alpaca Market Data API and create request\n",
    "data_client = StockHistoricalDataClient(API_KEY, SECRET_KEY)\n",
    "\n",
    "request_params = StockBarsRequest(\n",
    "    symbol_or_symbols=[\"SPY\"],\n",
    "    timeframe=TimeFrame.Day,\n",
    "    start=\"2022-01-01\"\n",
    ")\n",
    "\n",
    "bars = data_client.get_stock_bars(request_params)\n",
    "data = bars.df\n",
    "print(\"Successfully fetched historical data for SPY:\\n\")\n",
    "print(data.tail())"
   ]
  },
  {
   "cell_type": "code",
   "execution_count": null,
   "id": "7c510d3e",
   "metadata": {},
   "outputs": [
    {
     "name": "stdout",
     "output_type": "stream",
     "text": [
      "Checking for signals at 2025-09-29T15:38:17.759898-05:00 ---\n",
      "Latest Close: 663.68\n",
      "Latest Signal: 0.0\n",
      "Signal is neutral or position status prevents action. Holding.\n",
      "Waiting for 60 seconds before the next check...\n"
     ]
    }
   ],
   "source": [
    "while True: \n",
    "    print(f\"Checking for signals at {pd.Timestamp.now(tz='America/Chicago').isoformat()} ---\")\n",
    "\n",
    "    # 1. FETCH DATA (already done in the previous step, assuming 'data' DataFrame exists)\n",
    "    \n",
    "    # 2. ANALYZE DATA\n",
    "    data['SMA50'] = data['close'].rolling(window=50).mean()\n",
    "    data['Position'] = np.where(data['close'] > data['SMA50'], 1, 0)\n",
    "    data['Signal'] = data['Position'].diff()\n",
    "    \n",
    "    \n",
    "    # Let's look at the most recent data point\n",
    "    latest_close = data['close'].iloc[-1]\n",
    "    latest_signal = data['Signal'].iloc[-1]\n",
    "\n",
    "    print(f\"Latest Close: {latest_close:.2f}\")\n",
    "    print(f\"Latest Signal: {latest_signal}\")\n",
    "\n",
    "    # 3. ACT (make trade)\n",
    "    # Check current position and signal first\n",
    "    # Alpaca API raises an error if you ask for a position that doesn't exist.\n",
    "    try:\n",
    "        position = trading_client.get_open_position('SPY')\n",
    "        position_exists = True\n",
    "    except Exception as e:\n",
    "        position_exists = False\n",
    "\n",
    "    # IF the signal is \"buy\" AND we don't have a position, THEN submit a buy order.\n",
    "    if latest_signal == 1.0 and not position_exists:\n",
    "        print(\"Buy signal detected! Submitting market order for 1 share.\")\n",
    "        trading_client.submit_order(\n",
    "        symbol=\"SPY\",\n",
    "        qty=1,\n",
    "        side=\"buy\",\n",
    "        type=\"market\",\n",
    "        time_in_force=\"gtc\" # good-til-cancelled\n",
    "    )\n",
    "    # IF the signal is \"sell\" AND we already have a position, THEN sell it.\n",
    "    elif latest_signal == -1.0 and position_exists:\n",
    "        print(\"Sell signal detected! Selling our 1 share.\")\n",
    "        trading_client.submit_order(\n",
    "        symbol=\"SPY\",\n",
    "        qty=1,\n",
    "        side=\"buy\",\n",
    "        type=\"market\",\n",
    "        time_in_force=\"gtc\" # good-til-cancelled\n",
    "    )\n",
    "    else:\n",
    "        print(\"Signal is neutral or position status prevents action. Holding.\")\n",
    "    \n",
    "    \n",
    "    # 4. WAIT\n",
    "    print(\"Waiting for 60 seconds before the next check...\")\n",
    "    time.sleep(60) # Pauses the script for 60 seconds"
   ]
  },
  {
   "cell_type": "code",
   "execution_count": null,
   "id": "1fabe6cf",
   "metadata": {},
   "outputs": [],
   "source": []
  }
 ],
 "metadata": {
  "kernelspec": {
   "display_name": "venv",
   "language": "python",
   "name": "python3"
  },
  "language_info": {
   "codemirror_mode": {
    "name": "ipython",
    "version": 3
   },
   "file_extension": ".py",
   "mimetype": "text/x-python",
   "name": "python",
   "nbconvert_exporter": "python",
   "pygments_lexer": "ipython3",
   "version": "3.13.5"
  }
 },
 "nbformat": 4,
 "nbformat_minor": 5
}
